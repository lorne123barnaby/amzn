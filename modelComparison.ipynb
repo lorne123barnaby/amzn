{
 "cells": [
  {
   "cell_type": "code",
   "execution_count": 1,
   "metadata": {},
   "outputs": [],
   "source": [
    "from import_data import VectorFetcher\n",
    "\n",
    "vf = VectorFetcher()"
   ]
  },
  {
   "cell_type": "code",
   "execution_count": 2,
   "metadata": {},
   "outputs": [],
   "source": [
    "trainingData = {}\n",
    "trainingData[\"X\"] = vf.get_vectors([\"shakespeare\",\"marlowe\"], \"train\")\n",
    "trainingData[\"Y\"] = [1,1,1,1,0,0,0]"
   ]
  },
  {
   "cell_type": "code",
   "execution_count": 4,
   "metadata": {},
   "outputs": [
    {
     "data": {
      "text/html": [
       "<div>\n",
       "<style scoped>\n",
       "    .dataframe tbody tr th:only-of-type {\n",
       "        vertical-align: middle;\n",
       "    }\n",
       "\n",
       "    .dataframe tbody tr th {\n",
       "        vertical-align: top;\n",
       "    }\n",
       "\n",
       "    .dataframe thead th {\n",
       "        text-align: right;\n",
       "    }\n",
       "</style>\n",
       "<table border=\"1\" class=\"dataframe\">\n",
       "  <thead>\n",
       "    <tr style=\"text-align: right;\">\n",
       "      <th></th>\n",
       "      <th>X</th>\n",
       "      <th>Y</th>\n",
       "    </tr>\n",
       "  </thead>\n",
       "  <tbody>\n",
       "    <tr>\n",
       "      <th>0</th>\n",
       "      <td>(0, 393)\\t1\\n  (0, 397)\\t1\\n  (0, 400)\\t1\\n ...</td>\n",
       "      <td>1</td>\n",
       "    </tr>\n",
       "    <tr>\n",
       "      <th>1</th>\n",
       "      <td>(0, 393)\\t1\\n  (0, 397)\\t1\\n  (0, 400)\\t1\\n ...</td>\n",
       "      <td>1</td>\n",
       "    </tr>\n",
       "    <tr>\n",
       "      <th>2</th>\n",
       "      <td>(0, 393)\\t1\\n  (0, 397)\\t1\\n  (0, 400)\\t1\\n ...</td>\n",
       "      <td>1</td>\n",
       "    </tr>\n",
       "    <tr>\n",
       "      <th>3</th>\n",
       "      <td>(0, 393)\\t1\\n  (0, 397)\\t1\\n  (0, 400)\\t1\\n ...</td>\n",
       "      <td>1</td>\n",
       "    </tr>\n",
       "    <tr>\n",
       "      <th>4</th>\n",
       "      <td>(0, 393)\\t1\\n  (0, 397)\\t1\\n  (0, 400)\\t1\\n ...</td>\n",
       "      <td>0</td>\n",
       "    </tr>\n",
       "    <tr>\n",
       "      <th>5</th>\n",
       "      <td>(0, 393)\\t1\\n  (0, 397)\\t1\\n  (0, 400)\\t1\\n ...</td>\n",
       "      <td>0</td>\n",
       "    </tr>\n",
       "    <tr>\n",
       "      <th>6</th>\n",
       "      <td>(0, 393)\\t1\\n  (0, 397)\\t1\\n  (0, 400)\\t1\\n ...</td>\n",
       "      <td>0</td>\n",
       "    </tr>\n",
       "  </tbody>\n",
       "</table>\n",
       "</div>"
      ],
      "text/plain": [
       "                                                   X  Y\n",
       "0    (0, 393)\\t1\\n  (0, 397)\\t1\\n  (0, 400)\\t1\\n ...  1\n",
       "1    (0, 393)\\t1\\n  (0, 397)\\t1\\n  (0, 400)\\t1\\n ...  1\n",
       "2    (0, 393)\\t1\\n  (0, 397)\\t1\\n  (0, 400)\\t1\\n ...  1\n",
       "3    (0, 393)\\t1\\n  (0, 397)\\t1\\n  (0, 400)\\t1\\n ...  1\n",
       "4    (0, 393)\\t1\\n  (0, 397)\\t1\\n  (0, 400)\\t1\\n ...  0\n",
       "5    (0, 393)\\t1\\n  (0, 397)\\t1\\n  (0, 400)\\t1\\n ...  0\n",
       "6    (0, 393)\\t1\\n  (0, 397)\\t1\\n  (0, 400)\\t1\\n ...  0"
      ]
     },
     "execution_count": 4,
     "metadata": {},
     "output_type": "execute_result"
    }
   ],
   "source": [
    "import pandas as pd\n",
    "\n",
    "pd.DataFrame.from_dict(trainingData)"
   ]
  },
  {
   "cell_type": "code",
   "execution_count": 5,
   "metadata": {},
   "outputs": [
    {
     "data": {
      "text/html": [
       "<div>\n",
       "<style scoped>\n",
       "    .dataframe tbody tr th:only-of-type {\n",
       "        vertical-align: middle;\n",
       "    }\n",
       "\n",
       "    .dataframe tbody tr th {\n",
       "        vertical-align: top;\n",
       "    }\n",
       "\n",
       "    .dataframe thead th {\n",
       "        text-align: right;\n",
       "    }\n",
       "</style>\n",
       "<table border=\"1\" class=\"dataframe\">\n",
       "  <thead>\n",
       "    <tr style=\"text-align: right;\">\n",
       "      <th></th>\n",
       "      <th>X</th>\n",
       "      <th>Y</th>\n",
       "    </tr>\n",
       "  </thead>\n",
       "  <tbody>\n",
       "    <tr>\n",
       "      <th>0</th>\n",
       "      <td>(0, 0)\\t11\\n  (0, 1)\\t8\\n  (0, 2)\\t2\\n  (0, ...</td>\n",
       "      <td>1</td>\n",
       "    </tr>\n",
       "    <tr>\n",
       "      <th>1</th>\n",
       "      <td>(0, 0)\\t11\\n  (0, 1)\\t8\\n  (0, 2)\\t2\\n  (0, ...</td>\n",
       "      <td>1</td>\n",
       "    </tr>\n",
       "    <tr>\n",
       "      <th>2</th>\n",
       "      <td>(0, 0)\\t11\\n  (0, 1)\\t8\\n  (0, 2)\\t2\\n  (0, ...</td>\n",
       "      <td>1</td>\n",
       "    </tr>\n",
       "    <tr>\n",
       "      <th>3</th>\n",
       "      <td>(0, 0)\\t11\\n  (0, 1)\\t8\\n  (0, 2)\\t2\\n  (0, ...</td>\n",
       "      <td>0</td>\n",
       "    </tr>\n",
       "    <tr>\n",
       "      <th>4</th>\n",
       "      <td>(0, 0)\\t11\\n  (0, 1)\\t8\\n  (0, 2)\\t2\\n  (0, ...</td>\n",
       "      <td>0</td>\n",
       "    </tr>\n",
       "  </tbody>\n",
       "</table>\n",
       "</div>"
      ],
      "text/plain": [
       "                                                   X  Y\n",
       "0    (0, 0)\\t11\\n  (0, 1)\\t8\\n  (0, 2)\\t2\\n  (0, ...  1\n",
       "1    (0, 0)\\t11\\n  (0, 1)\\t8\\n  (0, 2)\\t2\\n  (0, ...  1\n",
       "2    (0, 0)\\t11\\n  (0, 1)\\t8\\n  (0, 2)\\t2\\n  (0, ...  1\n",
       "3    (0, 0)\\t11\\n  (0, 1)\\t8\\n  (0, 2)\\t2\\n  (0, ...  0\n",
       "4    (0, 0)\\t11\\n  (0, 1)\\t8\\n  (0, 2)\\t2\\n  (0, ...  0"
      ]
     },
     "execution_count": 5,
     "metadata": {},
     "output_type": "execute_result"
    }
   ],
   "source": [
    "testingData = {}\n",
    "testingData[\"X\"] = vf.get_vectors([\"shakespeare\",\"marlowe\"], \"test\")\n",
    "testingData[\"Y\"] = [1,1,1,0,0]\n",
    "\n",
    "pd.DataFrame.from_dict(testingData)"
   ]
  },
  {
   "cell_type": "code",
   "execution_count": 7,
   "metadata": {},
   "outputs": [
    {
     "name": "stderr",
     "output_type": "stream",
     "text": [
      "/home/workexp/.local/lib/python3.5/site-packages/sklearn/linear_model/logistic.py:432: FutureWarning: Default solver will be changed to 'lbfgs' in 0.22. Specify a solver to silence this warning.\n",
      "  FutureWarning)\n",
      "/home/workexp/.local/lib/python3.5/site-packages/sklearn/ensemble/forest.py:245: FutureWarning: The default value of n_estimators will change from 10 in version 0.20 to 100 in 0.22.\n",
      "  \"10 in version 0.20 to 100 in 0.22.\", FutureWarning)\n"
     ]
    }
   ],
   "source": [
    "from sklearn.linear_model import LogisticRegression\n",
    "from sklearn.ensemble import RandomForestClassifier\n",
    "from sklearn.naive_bayes import MultinomialNB\n",
    "\n",
    "models = [\n",
    "    LogisticRegression(),\n",
    "    RandomForestClassifier(),\n",
    "    MultinomialNB()\n",
    "]\n",
    "\n",
    "for i in range(0, len(models)):\n",
    "    models[i].fit(trainingData[\"X\"], trainingData[\"Y\"])"
   ]
  },
  {
   "cell_type": "code",
   "execution_count": 18,
   "metadata": {},
   "outputs": [],
   "source": [
    "\n",
    "accuracy = [model.score(testingData[\"X\"], testingData[\"Y\"]) * 100 for model in models]\n",
    "model_labels = [model.__class__.__name__ for model in models]\n"
   ]
  },
  {
   "cell_type": "code",
   "execution_count": 20,
   "metadata": {},
   "outputs": [
    {
     "data": {
      "image/png": "[encoded data removed]",
      "text/plain": [
       "<Figure size 432x288 with 1 Axes>"
      ]
     },
     "metadata": {
      "needs_background": "light"
     },
     "output_type": "display_data"
    }
   ],
   "source": [
    "import matplotlib.pyplot as plt\n",
    "import numpy as np\n",
    "%matplotlib inline\n",
    "\n",
    "ind = index = np.arange(len(model_labels))\n",
    "plt.bar(ind, accuracy)\n",
    "plt.xlabel(\"model\", fontsize=10)\n",
    "plt.ylabel(\"accuracy (%)\", fontsize=10)\n",
    "plt.xticks(ind, model_labels)\n",
    "plt.show()\n"
   ]
  },
  {
   "cell_type": "code",
   "execution_count": null,
   "metadata": {},
   "outputs": [],
   "source": []
  }
 ],
 "metadata": {
  "kernelspec": {
   "display_name": "Python 3",
   "language": "python",
   "name": "python3"
  },
  "language_info": {
   "codemirror_mode": {
    "name": "ipython",
    "version": 3
   },
   "file_extension": ".py",
   "mimetype": "text/x-python",
   "name": "python",
   "nbconvert_exporter": "python",
   "pygments_lexer": "ipython3",
   "version": "3.5.2"
  }
 },
 "nbformat": 4,
 "nbformat_minor": 2
}
