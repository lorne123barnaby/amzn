{
 "cells": [
  {
   "cell_type": "code",
   "execution_count": 19,
   "metadata": {},
   "outputs": [
    {
     "name": "stdout",
     "output_type": "stream",
     "text": [
      "['train']\n"
     ]
    }
   ],
   "source": [
    "from import_data import VectorFetcher\n",
    "from tf import TensorflowNN\n",
    "\n",
    "vf = VectorFetcher([\"train\"])"
   ]
  },
  {
   "cell_type": "code",
   "execution_count": 20,
   "metadata": {},
   "outputs": [],
   "source": [
    "trainingData = {}\n",
    "trainingData[\"X\"] = vf.get_vectors([\"shakespeare\",\"marlowe\"], \"train\")\n",
    "trainingData[\"Y\"] = [1,1,1,1,0,0,0]"
   ]
  },
  {
   "cell_type": "code",
   "execution_count": 21,
   "metadata": {},
   "outputs": [
    {
     "data": {
      "text/html": [
       "<div>\n",
       "<style scoped>\n",
       "    .dataframe tbody tr th:only-of-type {\n",
       "        vertical-align: middle;\n",
       "    }\n",
       "\n",
       "    .dataframe tbody tr th {\n",
       "        vertical-align: top;\n",
       "    }\n",
       "\n",
       "    .dataframe thead th {\n",
       "        text-align: right;\n",
       "    }\n",
       "</style>\n",
       "<table border=\"1\" class=\"dataframe\">\n",
       "  <thead>\n",
       "    <tr style=\"text-align: right;\">\n",
       "      <th></th>\n",
       "      <th>X</th>\n",
       "      <th>Y</th>\n",
       "    </tr>\n",
       "  </thead>\n",
       "  <tbody>\n",
       "    <tr>\n",
       "      <th>0</th>\n",
       "      <td>(0, 269)\\t1\\n  (0, 271)\\t1\\n  (0, 274)\\t1\\n ...</td>\n",
       "      <td>1</td>\n",
       "    </tr>\n",
       "    <tr>\n",
       "      <th>1</th>\n",
       "      <td>(0, 269)\\t1\\n  (0, 271)\\t1\\n  (0, 274)\\t1\\n ...</td>\n",
       "      <td>1</td>\n",
       "    </tr>\n",
       "    <tr>\n",
       "      <th>2</th>\n",
       "      <td>(0, 269)\\t1\\n  (0, 271)\\t1\\n  (0, 274)\\t1\\n ...</td>\n",
       "      <td>1</td>\n",
       "    </tr>\n",
       "    <tr>\n",
       "      <th>3</th>\n",
       "      <td>(0, 269)\\t1\\n  (0, 271)\\t1\\n  (0, 274)\\t1\\n ...</td>\n",
       "      <td>1</td>\n",
       "    </tr>\n",
       "    <tr>\n",
       "      <th>4</th>\n",
       "      <td>(0, 269)\\t1\\n  (0, 271)\\t1\\n  (0, 274)\\t1\\n ...</td>\n",
       "      <td>0</td>\n",
       "    </tr>\n",
       "    <tr>\n",
       "      <th>5</th>\n",
       "      <td>(0, 269)\\t1\\n  (0, 271)\\t1\\n  (0, 274)\\t1\\n ...</td>\n",
       "      <td>0</td>\n",
       "    </tr>\n",
       "    <tr>\n",
       "      <th>6</th>\n",
       "      <td>(0, 269)\\t1\\n  (0, 271)\\t1\\n  (0, 274)\\t1\\n ...</td>\n",
       "      <td>0</td>\n",
       "    </tr>\n",
       "  </tbody>\n",
       "</table>\n",
       "</div>"
      ],
      "text/plain": [
       "                                                   X  Y\n",
       "0    (0, 269)\\t1\\n  (0, 271)\\t1\\n  (0, 274)\\t1\\n ...  1\n",
       "1    (0, 269)\\t1\\n  (0, 271)\\t1\\n  (0, 274)\\t1\\n ...  1\n",
       "2    (0, 269)\\t1\\n  (0, 271)\\t1\\n  (0, 274)\\t1\\n ...  1\n",
       "3    (0, 269)\\t1\\n  (0, 271)\\t1\\n  (0, 274)\\t1\\n ...  1\n",
       "4    (0, 269)\\t1\\n  (0, 271)\\t1\\n  (0, 274)\\t1\\n ...  0\n",
       "5    (0, 269)\\t1\\n  (0, 271)\\t1\\n  (0, 274)\\t1\\n ...  0\n",
       "6    (0, 269)\\t1\\n  (0, 271)\\t1\\n  (0, 274)\\t1\\n ...  0"
      ]
     },
     "execution_count": 21,
     "metadata": {},
     "output_type": "execute_result"
    }
   ],
   "source": [
    "import pandas as pd\n",
    "\n",
    "pd.DataFrame.from_dict(trainingData)"
   ]
  },
  {
   "cell_type": "code",
   "execution_count": 22,
   "metadata": {},
   "outputs": [
    {
     "data": {
      "text/html": [
       "<div>\n",
       "<style scoped>\n",
       "    .dataframe tbody tr th:only-of-type {\n",
       "        vertical-align: middle;\n",
       "    }\n",
       "\n",
       "    .dataframe tbody tr th {\n",
       "        vertical-align: top;\n",
       "    }\n",
       "\n",
       "    .dataframe thead th {\n",
       "        text-align: right;\n",
       "    }\n",
       "</style>\n",
       "<table border=\"1\" class=\"dataframe\">\n",
       "  <thead>\n",
       "    <tr style=\"text-align: right;\">\n",
       "      <th></th>\n",
       "      <th>X</th>\n",
       "      <th>Y</th>\n",
       "    </tr>\n",
       "  </thead>\n",
       "  <tbody>\n",
       "    <tr>\n",
       "      <th>0</th>\n",
       "      <td>(0, 273)\\t2\\n  (0, 286)\\t19\\n  (0, 287)\\t4\\n...</td>\n",
       "      <td>1</td>\n",
       "    </tr>\n",
       "    <tr>\n",
       "      <th>1</th>\n",
       "      <td>(0, 273)\\t2\\n  (0, 286)\\t19\\n  (0, 287)\\t4\\n...</td>\n",
       "      <td>1</td>\n",
       "    </tr>\n",
       "    <tr>\n",
       "      <th>2</th>\n",
       "      <td>(0, 273)\\t2\\n  (0, 286)\\t19\\n  (0, 287)\\t4\\n...</td>\n",
       "      <td>1</td>\n",
       "    </tr>\n",
       "    <tr>\n",
       "      <th>3</th>\n",
       "      <td>(0, 273)\\t2\\n  (0, 286)\\t19\\n  (0, 287)\\t4\\n...</td>\n",
       "      <td>1</td>\n",
       "    </tr>\n",
       "    <tr>\n",
       "      <th>4</th>\n",
       "      <td>(0, 273)\\t2\\n  (0, 286)\\t19\\n  (0, 287)\\t4\\n...</td>\n",
       "      <td>0</td>\n",
       "    </tr>\n",
       "    <tr>\n",
       "      <th>5</th>\n",
       "      <td>(0, 273)\\t2\\n  (0, 286)\\t19\\n  (0, 287)\\t4\\n...</td>\n",
       "      <td>0</td>\n",
       "    </tr>\n",
       "    <tr>\n",
       "      <th>6</th>\n",
       "      <td>(0, 273)\\t2\\n  (0, 286)\\t19\\n  (0, 287)\\t4\\n...</td>\n",
       "      <td>0</td>\n",
       "    </tr>\n",
       "  </tbody>\n",
       "</table>\n",
       "</div>"
      ],
      "text/plain": [
       "                                                   X  Y\n",
       "0    (0, 273)\\t2\\n  (0, 286)\\t19\\n  (0, 287)\\t4\\n...  1\n",
       "1    (0, 273)\\t2\\n  (0, 286)\\t19\\n  (0, 287)\\t4\\n...  1\n",
       "2    (0, 273)\\t2\\n  (0, 286)\\t19\\n  (0, 287)\\t4\\n...  1\n",
       "3    (0, 273)\\t2\\n  (0, 286)\\t19\\n  (0, 287)\\t4\\n...  1\n",
       "4    (0, 273)\\t2\\n  (0, 286)\\t19\\n  (0, 287)\\t4\\n...  0\n",
       "5    (0, 273)\\t2\\n  (0, 286)\\t19\\n  (0, 287)\\t4\\n...  0\n",
       "6    (0, 273)\\t2\\n  (0, 286)\\t19\\n  (0, 287)\\t4\\n...  0"
      ]
     },
     "execution_count": 22,
     "metadata": {},
     "output_type": "execute_result"
    }
   ],
   "source": [
    "testingData = {}\n",
    "testingData[\"X\"] = vf.get_vectors([\"shakespeare\",\"marlowe\"], \"test\")\n",
    "testingData[\"Y\"] = [1,1,1,1,0,0,0]\n",
    "\n",
    "pd.DataFrame.from_dict(testingData)"
   ]
  },
  {
   "cell_type": "code",
   "execution_count": 23,
   "metadata": {},
   "outputs": [
    {
     "name": "stderr",
     "output_type": "stream",
     "text": [
      "/home/workexp/.local/lib/python3.5/site-packages/sklearn/linear_model/logistic.py:432: FutureWarning: Default solver will be changed to 'lbfgs' in 0.22. Specify a solver to silence this warning.\n",
      "  FutureWarning)\n",
      "/home/workexp/.local/lib/python3.5/site-packages/sklearn/ensemble/forest.py:245: FutureWarning: The default value of n_estimators will change from 10 in version 0.20 to 100 in 0.22.\n",
      "  \"10 in version 0.20 to 100 in 0.22.\", FutureWarning)\n",
      "/home/workexp/.local/lib/python3.5/site-packages/sklearn/svm/base.py:929: ConvergenceWarning: Liblinear failed to converge, increase the number of iterations.\n",
      "  \"the number of iterations.\", ConvergenceWarning)\n"
     ]
    }
   ],
   "source": [
    "from sklearn.linear_model import LogisticRegression\n",
    "from sklearn.ensemble import RandomForestClassifier\n",
    "from sklearn.naive_bayes import MultinomialNB\n",
    "from sklearn.svm import SVC\n",
    "from sklearn.svm import LinearSVC\n",
    "\n",
    "models = [\n",
    "    LogisticRegression(),\n",
    "    RandomForestClassifier(),\n",
    "    MultinomialNB(),\n",
    "    SVC(gamma=\"auto\"),\n",
    "    LinearSVC(),\n",
    "    TensorflowNN(trainingData[\"X\"].shape[1])\n",
    "]\n",
    "\n",
    "import time\n",
    "\n",
    "for i in range(0, len(models)):\n",
    "    models[i].fit(trainingData[\"X\"], trainingData[\"Y\"])\n",
    "    time.sleep(1)"
   ]
  },
  {
   "cell_type": "code",
   "execution_count": 24,
   "metadata": {},
   "outputs": [
    {
     "name": "stdout",
     "output_type": "stream",
     "text": [
      "\r",
      "7/7 [==============================] - 0s 10ms/sample - loss: 9.1601 - acc: 0.4286\n"
     ]
    }
   ],
   "source": [
    "\n",
    "accuracy = [model.score(testingData[\"X\"], testingData[\"Y\"]) * 100 for model in models]\n",
    "model_labels = [model.__class__.__name__ for model in models]\n"
   ]
  },
  {
   "cell_type": "code",
   "execution_count": 47,
   "metadata": {
    "scrolled": false
   },
   "outputs": [
    {
     "data": {
      "image/png": "[encoded data removed]",
      "text/plain": [
       "<Figure size 432x288 with 1 Axes>"
      ]
     },
     "metadata": {
      "needs_background": "light"
     },
     "output_type": "display_data"
    }
   ],
   "source": [
    "import matplotlib.pyplot as plt\n",
    "import numpy as np\n",
    "%matplotlib inline\n",
    "\n",
    "ind = index = np.arange(len(model_labels))\n",
    "plt.bar(ind, accuracy)\n",
    "plt.xlabel(\"model\", fontsize=10)\n",
    "plt.ylabel(\"accuracy (%)\", fontsize=10)\n",
    "plt.xticks(ind, model_labels, rotation=15, fontsize=5)\n",
    "\n",
    "plt.savefig(\"models.png\", dpi=500)\n",
    "plt.show()\n",
    "\n"
   ]
  },
  {
   "cell_type": "code",
   "execution_count": 26,
   "metadata": {},
   "outputs": [],
   "source": [
    "\n",
    "def predict(model):\n",
    "    predictions = model.predict(testingData[\"X\"])\n",
    "\n",
    "    for i in range(0, len(predictions)):\n",
    "        authors = [\"marlowe\", \"shakespeare\"]\n",
    "        prediction = authors[predictions[i]]\n",
    "        actual_author = authors[testingData[\"Y\"][i]]\n",
    "        print(\"Actual author:\", actual_author, \"- Predicted author:\", prediction)"
   ]
  },
  {
   "cell_type": "code",
   "execution_count": 27,
   "metadata": {},
   "outputs": [
    {
     "name": "stdout",
     "output_type": "stream",
     "text": [
      "Actual author: shakespeare - Predicted author: shakespeare\n",
      "Actual author: shakespeare - Predicted author: shakespeare\n",
      "Actual author: shakespeare - Predicted author: shakespeare\n",
      "Actual author: shakespeare - Predicted author: shakespeare\n",
      "Actual author: marlowe - Predicted author: marlowe\n",
      "Actual author: marlowe - Predicted author: marlowe\n",
      "Actual author: marlowe - Predicted author: marlowe\n"
     ]
    }
   ],
   "source": [
    "predict(models[4])"
   ]
  },
  {
   "cell_type": "markdown",
   "metadata": {},
   "source": [
    "LinearSVC model cannot predict probabilities"
   ]
  },
  {
   "cell_type": "code",
   "execution_count": 28,
   "metadata": {},
   "outputs": [],
   "source": [
    "def savemodels():\n",
    "\n",
    "    from joblib import dump\n",
    "    import datetime\n",
    "\n",
    "    for model in models:\n",
    "        try:\n",
    "            dump(model, model.__class__.__name__ + \".model\")\n",
    "        except:\n",
    "            continue"
   ]
  },
  {
   "cell_type": "code",
   "execution_count": 29,
   "metadata": {},
   "outputs": [],
   "source": [
    "savemodels()"
   ]
  },
  {
   "cell_type": "code",
   "execution_count": 30,
   "metadata": {},
   "outputs": [
    {
     "name": "stdout",
     "output_type": "stream",
     "text": [
      "LogisticRegression \n",
      " [[2.44249065e-15 1.00000000e+00]\n",
      " [2.56562982e-08 9.99999974e-01]\n",
      " [9.52349311e-13 1.00000000e+00]\n",
      " [2.72342869e-06 9.99997277e-01]\n",
      " [9.82001655e-02 9.01799835e-01]\n",
      " [9.99676608e-01 3.23391885e-04]\n",
      " [6.04917071e-04 9.99395083e-01]]\n",
      "RandomForestClassifier \n",
      " [[0.5 0.5]\n",
      " [0.6 0.4]\n",
      " [0.3 0.7]\n",
      " [0.4 0.6]\n",
      " [0.7 0.3]\n",
      " [0.7 0.3]\n",
      " [0.6 0.4]]\n",
      "MultinomialNB \n",
      " [[4.43268471e-284 1.00000000e+000]\n",
      " [1.00000000e+000 9.02230349e-301]\n",
      " [0.00000000e+000 1.00000000e+000]\n",
      " [0.00000000e+000 1.00000000e+000]\n",
      " [0.00000000e+000 1.00000000e+000]\n",
      " [1.00000000e+000 0.00000000e+000]\n",
      " [1.00000000e+000 0.00000000e+000]]\n",
      "SVC \n",
      " [1 1 1 1 1 1 1]\n",
      "LinearSVC \n",
      " [1 1 1 1 0 0 0]\n",
      "TensorflowNN \n",
      " [[0. 1.]\n",
      " [0. 1.]\n",
      " [0. 1.]\n",
      " [0. 1.]\n",
      " [0. 1.]\n",
      " [0. 1.]\n",
      " [0. 1.]]\n"
     ]
    }
   ],
   "source": [
    "for model in models:\n",
    "    try:\n",
    "        print(model.__class__.__name__,\"\\n\", model.predict_proba(testingData[\"X\"]))\n",
    "    except:\n",
    "        print(model.__class__.__name__,\"\\n\" ,model.predict(testingData[\"X\"]))"
   ]
  },
  {
   "cell_type": "code",
   "execution_count": 31,
   "metadata": {},
   "outputs": [
    {
     "name": "stdout",
     "output_type": "stream",
     "text": [
      "LogisticRegression\n",
      "Actual author: shakespeare - Predicted author: shakespeare\n",
      "Actual author: shakespeare - Predicted author: shakespeare\n",
      "Actual author: shakespeare - Predicted author: shakespeare\n",
      "Actual author: shakespeare - Predicted author: shakespeare\n",
      "Actual author: marlowe - Predicted author: shakespeare\n",
      "Actual author: marlowe - Predicted author: marlowe\n",
      "Actual author: marlowe - Predicted author: shakespeare\n",
      "None\n",
      "RandomForestClassifier\n",
      "Actual author: shakespeare - Predicted author: marlowe\n",
      "Actual author: shakespeare - Predicted author: marlowe\n",
      "Actual author: shakespeare - Predicted author: shakespeare\n",
      "Actual author: shakespeare - Predicted author: shakespeare\n",
      "Actual author: marlowe - Predicted author: marlowe\n",
      "Actual author: marlowe - Predicted author: marlowe\n",
      "Actual author: marlowe - Predicted author: marlowe\n",
      "None\n",
      "MultinomialNB\n",
      "Actual author: shakespeare - Predicted author: shakespeare\n",
      "Actual author: shakespeare - Predicted author: marlowe\n",
      "Actual author: shakespeare - Predicted author: shakespeare\n",
      "Actual author: shakespeare - Predicted author: shakespeare\n",
      "Actual author: marlowe - Predicted author: shakespeare\n",
      "Actual author: marlowe - Predicted author: marlowe\n",
      "Actual author: marlowe - Predicted author: marlowe\n",
      "None\n",
      "SVC\n",
      "Actual author: shakespeare - Predicted author: shakespeare\n",
      "Actual author: shakespeare - Predicted author: shakespeare\n",
      "Actual author: shakespeare - Predicted author: shakespeare\n",
      "Actual author: shakespeare - Predicted author: shakespeare\n",
      "Actual author: marlowe - Predicted author: shakespeare\n",
      "Actual author: marlowe - Predicted author: shakespeare\n",
      "Actual author: marlowe - Predicted author: shakespeare\n",
      "None\n",
      "LinearSVC\n",
      "Actual author: shakespeare - Predicted author: shakespeare\n",
      "Actual author: shakespeare - Predicted author: shakespeare\n",
      "Actual author: shakespeare - Predicted author: shakespeare\n",
      "Actual author: shakespeare - Predicted author: shakespeare\n",
      "Actual author: marlowe - Predicted author: marlowe\n",
      "Actual author: marlowe - Predicted author: marlowe\n",
      "Actual author: marlowe - Predicted author: marlowe\n",
      "None\n",
      "TensorflowNN\n"
     ]
    },
    {
     "ename": "TypeError",
     "evalue": "only integer scalar arrays can be converted to a scalar index",
     "output_type": "error",
     "traceback": [
      "\u001b[0;31m---------------------------------------------------------------------------\u001b[0m",
      "\u001b[0;31mTypeError\u001b[0m                                 Traceback (most recent call last)",
      "\u001b[0;32m<ipython-input-31-a61255a1f0cf>\u001b[0m in \u001b[0;36m<module>\u001b[0;34m\u001b[0m\n\u001b[1;32m      1\u001b[0m \u001b[0;32mfor\u001b[0m \u001b[0mmodel\u001b[0m \u001b[0;32min\u001b[0m \u001b[0mmodels\u001b[0m\u001b[0;34m:\u001b[0m\u001b[0;34m\u001b[0m\u001b[0m\n\u001b[1;32m      2\u001b[0m     \u001b[0mprint\u001b[0m\u001b[0;34m(\u001b[0m\u001b[0mmodel\u001b[0m\u001b[0;34m.\u001b[0m\u001b[0m__class__\u001b[0m\u001b[0;34m.\u001b[0m\u001b[0m__name__\u001b[0m\u001b[0;34m)\u001b[0m\u001b[0;34m\u001b[0m\u001b[0m\n\u001b[0;32m----> 3\u001b[0;31m     \u001b[0mprint\u001b[0m\u001b[0;34m(\u001b[0m\u001b[0mpredict\u001b[0m\u001b[0;34m(\u001b[0m\u001b[0mmodel\u001b[0m\u001b[0;34m)\u001b[0m\u001b[0;34m)\u001b[0m\u001b[0;34m\u001b[0m\u001b[0m\n\u001b[0m",
      "\u001b[0;32m<ipython-input-26-d6c9bfec6f94>\u001b[0m in \u001b[0;36mpredict\u001b[0;34m(model)\u001b[0m\n\u001b[1;32m      5\u001b[0m     \u001b[0;32mfor\u001b[0m \u001b[0mi\u001b[0m \u001b[0;32min\u001b[0m \u001b[0mrange\u001b[0m\u001b[0;34m(\u001b[0m\u001b[0;36m0\u001b[0m\u001b[0;34m,\u001b[0m \u001b[0mlen\u001b[0m\u001b[0;34m(\u001b[0m\u001b[0mpredictions\u001b[0m\u001b[0;34m)\u001b[0m\u001b[0;34m)\u001b[0m\u001b[0;34m:\u001b[0m\u001b[0;34m\u001b[0m\u001b[0m\n\u001b[1;32m      6\u001b[0m         \u001b[0mauthors\u001b[0m \u001b[0;34m=\u001b[0m \u001b[0;34m[\u001b[0m\u001b[0;34m\"marlowe\"\u001b[0m\u001b[0;34m,\u001b[0m \u001b[0;34m\"shakespeare\"\u001b[0m\u001b[0;34m]\u001b[0m\u001b[0;34m\u001b[0m\u001b[0m\n\u001b[0;32m----> 7\u001b[0;31m         \u001b[0mprediction\u001b[0m \u001b[0;34m=\u001b[0m \u001b[0mauthors\u001b[0m\u001b[0;34m[\u001b[0m\u001b[0mpredictions\u001b[0m\u001b[0;34m[\u001b[0m\u001b[0mi\u001b[0m\u001b[0;34m]\u001b[0m\u001b[0;34m]\u001b[0m\u001b[0;34m\u001b[0m\u001b[0m\n\u001b[0m\u001b[1;32m      8\u001b[0m         \u001b[0mactual_author\u001b[0m \u001b[0;34m=\u001b[0m \u001b[0mauthors\u001b[0m\u001b[0;34m[\u001b[0m\u001b[0mtestingData\u001b[0m\u001b[0;34m[\u001b[0m\u001b[0;34m\"Y\"\u001b[0m\u001b[0;34m]\u001b[0m\u001b[0;34m[\u001b[0m\u001b[0mi\u001b[0m\u001b[0;34m]\u001b[0m\u001b[0;34m]\u001b[0m\u001b[0;34m\u001b[0m\u001b[0m\n\u001b[1;32m      9\u001b[0m         \u001b[0mprint\u001b[0m\u001b[0;34m(\u001b[0m\u001b[0;34m\"Actual author:\"\u001b[0m\u001b[0;34m,\u001b[0m \u001b[0mactual_author\u001b[0m\u001b[0;34m,\u001b[0m \u001b[0;34m\"- Predicted author:\"\u001b[0m\u001b[0;34m,\u001b[0m \u001b[0mprediction\u001b[0m\u001b[0;34m)\u001b[0m\u001b[0;34m\u001b[0m\u001b[0m\n",
      "\u001b[0;31mTypeError\u001b[0m: only integer scalar arrays can be converted to a scalar index"
     ]
    }
   ],
   "source": [
    "for model in models:\n",
    "    print(model.__class__.__name__)\n",
    "    print(predict(model))"
   ]
  },
  {
   "cell_type": "code",
   "execution_count": null,
   "metadata": {},
   "outputs": [],
   "source": []
  },
  {
   "cell_type": "code",
   "execution_count": null,
   "metadata": {},
   "outputs": [],
   "source": []
  }
 ],
 "metadata": {
  "kernelspec": {
   "display_name": "Python 3",
   "language": "python",
   "name": "python3"
  },
  "language_info": {
   "codemirror_mode": {
    "name": "ipython",
    "version": 3
   },
   "file_extension": ".py",
   "mimetype": "text/x-python",
   "name": "python",
   "nbconvert_exporter": "python",
   "pygments_lexer": "ipython3",
   "version": "3.5.2"
  }
 },
 "nbformat": 4,
 "nbformat_minor": 2
}
