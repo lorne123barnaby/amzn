{
 "cells": [
  {
   "cell_type": "markdown",
   "metadata": {},
   "source": [
    "# Switched\n",
    "## testing data and training data are switched"
   ]
  },
  {
   "cell_type": "code",
   "execution_count": 23,
   "metadata": {},
   "outputs": [
    {
     "name": "stdout",
     "output_type": "stream",
     "text": [
      "['test']\n"
     ]
    }
   ],
   "source": [
    "from import_data import VectorFetcher\n",
    "from tf import TensorflowNN\n",
    "\n",
    "vf = VectorFetcher([\"test\"])"
   ]
  },
  {
   "cell_type": "code",
   "execution_count": 24,
   "metadata": {},
   "outputs": [],
   "source": [
    "trainingData = {}\n",
    "trainingData[\"X\"] = vf.get_vectors([\"shakespeare\",\"marlowe\"], \"train\")\n",
    "trainingData[\"Y\"] = [1,1,1,1,0,0,0]"
   ]
  },
  {
   "cell_type": "code",
   "execution_count": 25,
   "metadata": {},
   "outputs": [
    {
     "data": {
      "text/html": [
       "<div>\n",
       "<style scoped>\n",
       "    .dataframe tbody tr th:only-of-type {\n",
       "        vertical-align: middle;\n",
       "    }\n",
       "\n",
       "    .dataframe tbody tr th {\n",
       "        vertical-align: top;\n",
       "    }\n",
       "\n",
       "    .dataframe thead th {\n",
       "        text-align: right;\n",
       "    }\n",
       "</style>\n",
       "<table border=\"1\" class=\"dataframe\">\n",
       "  <thead>\n",
       "    <tr style=\"text-align: right;\">\n",
       "      <th></th>\n",
       "      <th>X</th>\n",
       "      <th>Y</th>\n",
       "    </tr>\n",
       "  </thead>\n",
       "  <tbody>\n",
       "    <tr>\n",
       "      <th>0</th>\n",
       "      <td>(0, 388)\\t1\\n  (0, 402)\\t3\\n  (0, 403)\\t4\\n ...</td>\n",
       "      <td>1</td>\n",
       "    </tr>\n",
       "    <tr>\n",
       "      <th>1</th>\n",
       "      <td>(0, 388)\\t1\\n  (0, 402)\\t3\\n  (0, 403)\\t4\\n ...</td>\n",
       "      <td>1</td>\n",
       "    </tr>\n",
       "    <tr>\n",
       "      <th>2</th>\n",
       "      <td>(0, 388)\\t1\\n  (0, 402)\\t3\\n  (0, 403)\\t4\\n ...</td>\n",
       "      <td>1</td>\n",
       "    </tr>\n",
       "    <tr>\n",
       "      <th>3</th>\n",
       "      <td>(0, 388)\\t1\\n  (0, 402)\\t3\\n  (0, 403)\\t4\\n ...</td>\n",
       "      <td>1</td>\n",
       "    </tr>\n",
       "    <tr>\n",
       "      <th>4</th>\n",
       "      <td>(0, 388)\\t1\\n  (0, 402)\\t3\\n  (0, 403)\\t4\\n ...</td>\n",
       "      <td>0</td>\n",
       "    </tr>\n",
       "    <tr>\n",
       "      <th>5</th>\n",
       "      <td>(0, 388)\\t1\\n  (0, 402)\\t3\\n  (0, 403)\\t4\\n ...</td>\n",
       "      <td>0</td>\n",
       "    </tr>\n",
       "    <tr>\n",
       "      <th>6</th>\n",
       "      <td>(0, 388)\\t1\\n  (0, 402)\\t3\\n  (0, 403)\\t4\\n ...</td>\n",
       "      <td>0</td>\n",
       "    </tr>\n",
       "  </tbody>\n",
       "</table>\n",
       "</div>"
      ],
      "text/plain": [
       "                                                   X  Y\n",
       "0    (0, 388)\\t1\\n  (0, 402)\\t3\\n  (0, 403)\\t4\\n ...  1\n",
       "1    (0, 388)\\t1\\n  (0, 402)\\t3\\n  (0, 403)\\t4\\n ...  1\n",
       "2    (0, 388)\\t1\\n  (0, 402)\\t3\\n  (0, 403)\\t4\\n ...  1\n",
       "3    (0, 388)\\t1\\n  (0, 402)\\t3\\n  (0, 403)\\t4\\n ...  1\n",
       "4    (0, 388)\\t1\\n  (0, 402)\\t3\\n  (0, 403)\\t4\\n ...  0\n",
       "5    (0, 388)\\t1\\n  (0, 402)\\t3\\n  (0, 403)\\t4\\n ...  0\n",
       "6    (0, 388)\\t1\\n  (0, 402)\\t3\\n  (0, 403)\\t4\\n ...  0"
      ]
     },
     "execution_count": 25,
     "metadata": {},
     "output_type": "execute_result"
    }
   ],
   "source": [
    "import pandas as pd\n",
    "\n",
    "pd.DataFrame.from_dict(trainingData)"
   ]
  },
  {
   "cell_type": "code",
   "execution_count": 26,
   "metadata": {},
   "outputs": [
    {
     "data": {
      "text/html": [
       "<div>\n",
       "<style scoped>\n",
       "    .dataframe tbody tr th:only-of-type {\n",
       "        vertical-align: middle;\n",
       "    }\n",
       "\n",
       "    .dataframe tbody tr th {\n",
       "        vertical-align: top;\n",
       "    }\n",
       "\n",
       "    .dataframe thead th {\n",
       "        text-align: right;\n",
       "    }\n",
       "</style>\n",
       "<table border=\"1\" class=\"dataframe\">\n",
       "  <thead>\n",
       "    <tr style=\"text-align: right;\">\n",
       "      <th></th>\n",
       "      <th>X</th>\n",
       "      <th>Y</th>\n",
       "    </tr>\n",
       "  </thead>\n",
       "  <tbody>\n",
       "    <tr>\n",
       "      <th>0</th>\n",
       "      <td>(0, 390)\\t2\\n  (0, 398)\\t1\\n  (0, 406)\\t19\\n...</td>\n",
       "      <td>1</td>\n",
       "    </tr>\n",
       "    <tr>\n",
       "      <th>1</th>\n",
       "      <td>(0, 390)\\t2\\n  (0, 398)\\t1\\n  (0, 406)\\t19\\n...</td>\n",
       "      <td>1</td>\n",
       "    </tr>\n",
       "    <tr>\n",
       "      <th>2</th>\n",
       "      <td>(0, 390)\\t2\\n  (0, 398)\\t1\\n  (0, 406)\\t19\\n...</td>\n",
       "      <td>1</td>\n",
       "    </tr>\n",
       "    <tr>\n",
       "      <th>3</th>\n",
       "      <td>(0, 390)\\t2\\n  (0, 398)\\t1\\n  (0, 406)\\t19\\n...</td>\n",
       "      <td>1</td>\n",
       "    </tr>\n",
       "    <tr>\n",
       "      <th>4</th>\n",
       "      <td>(0, 390)\\t2\\n  (0, 398)\\t1\\n  (0, 406)\\t19\\n...</td>\n",
       "      <td>0</td>\n",
       "    </tr>\n",
       "    <tr>\n",
       "      <th>5</th>\n",
       "      <td>(0, 390)\\t2\\n  (0, 398)\\t1\\n  (0, 406)\\t19\\n...</td>\n",
       "      <td>0</td>\n",
       "    </tr>\n",
       "    <tr>\n",
       "      <th>6</th>\n",
       "      <td>(0, 390)\\t2\\n  (0, 398)\\t1\\n  (0, 406)\\t19\\n...</td>\n",
       "      <td>0</td>\n",
       "    </tr>\n",
       "  </tbody>\n",
       "</table>\n",
       "</div>"
      ],
      "text/plain": [
       "                                                   X  Y\n",
       "0    (0, 390)\\t2\\n  (0, 398)\\t1\\n  (0, 406)\\t19\\n...  1\n",
       "1    (0, 390)\\t2\\n  (0, 398)\\t1\\n  (0, 406)\\t19\\n...  1\n",
       "2    (0, 390)\\t2\\n  (0, 398)\\t1\\n  (0, 406)\\t19\\n...  1\n",
       "3    (0, 390)\\t2\\n  (0, 398)\\t1\\n  (0, 406)\\t19\\n...  1\n",
       "4    (0, 390)\\t2\\n  (0, 398)\\t1\\n  (0, 406)\\t19\\n...  0\n",
       "5    (0, 390)\\t2\\n  (0, 398)\\t1\\n  (0, 406)\\t19\\n...  0\n",
       "6    (0, 390)\\t2\\n  (0, 398)\\t1\\n  (0, 406)\\t19\\n...  0"
      ]
     },
     "execution_count": 26,
     "metadata": {},
     "output_type": "execute_result"
    }
   ],
   "source": [
    "testingData = {}\n",
    "testingData[\"X\"] = vf.get_vectors([\"shakespeare\",\"marlowe\"], \"test\")\n",
    "testingData[\"Y\"] = [1,1,1,1,0,0,0]\n",
    "\n",
    "pd.DataFrame.from_dict(testingData)"
   ]
  },
  {
   "cell_type": "code",
   "execution_count": 27,
   "metadata": {},
   "outputs": [
    {
     "name": "stdout",
     "output_type": "stream",
     "text": [
      "WARNING:tensorflow:From /home/workexp/.local/lib/python3.5/site-packages/tensorflow/python/ops/resource_variable_ops.py:435: colocate_with (from tensorflow.python.framework.ops) is deprecated and will be removed in a future version.\n",
      "Instructions for updating:\n",
      "Colocations handled automatically by placer.\n",
      "WARNING:tensorflow:From /home/workexp/.local/lib/python3.5/site-packages/tensorflow/python/ops/math_ops.py:3066: to_int32 (from tensorflow.python.ops.math_ops) is deprecated and will be removed in a future version.\n",
      "Instructions for updating:\n",
      "Use tf.cast instead.\n"
     ]
    },
    {
     "name": "stderr",
     "output_type": "stream",
     "text": [
      "/home/workexp/.local/lib/python3.5/site-packages/sklearn/linear_model/logistic.py:432: FutureWarning: Default solver will be changed to 'lbfgs' in 0.22. Specify a solver to silence this warning.\n",
      "  FutureWarning)\n",
      "/home/workexp/.local/lib/python3.5/site-packages/sklearn/ensemble/forest.py:245: FutureWarning: The default value of n_estimators will change from 10 in version 0.20 to 100 in 0.22.\n",
      "  \"10 in version 0.20 to 100 in 0.22.\", FutureWarning)\n",
      "/home/workexp/.local/lib/python3.5/site-packages/sklearn/svm/base.py:929: ConvergenceWarning: Liblinear failed to converge, increase the number of iterations.\n",
      "  \"the number of iterations.\", ConvergenceWarning)\n"
     ]
    }
   ],
   "source": [
    "from sklearn.linear_model import LogisticRegression\n",
    "from sklearn.ensemble import RandomForestClassifier\n",
    "from sklearn.naive_bayes import MultinomialNB\n",
    "from sklearn.svm import SVC\n",
    "from sklearn.svm import LinearSVC\n",
    "\n",
    "models = [\n",
    "    LogisticRegression(),\n",
    "    RandomForestClassifier(),\n",
    "    MultinomialNB(),\n",
    "    SVC(gamma=\"auto\"),\n",
    "    LinearSVC(),\n",
    "    TensorflowNN(trainingData[\"X\"].shape[1])\n",
    "]\n",
    "\n",
    "for i in range(0, len(models)):\n",
    "    models[i].fit(testingData[\"X\"], testingData[\"Y\"])"
   ]
  },
  {
   "cell_type": "code",
   "execution_count": 28,
   "metadata": {},
   "outputs": [
    {
     "name": "stdout",
     "output_type": "stream",
     "text": [
      "\r",
      "7/7 [==============================] - 0s 7ms/sample - loss: 6.8701 - acc: 0.5714\n"
     ]
    }
   ],
   "source": [
    "\n",
    "accuracy = [model.score(trainingData[\"X\"], trainingData[\"Y\"]) * 100 for model in models]\n",
    "model_labels = [model.__class__.__name__ for model in models]\n"
   ]
  },
  {
   "cell_type": "code",
   "execution_count": 29,
   "metadata": {},
   "outputs": [
    {
     "data": {
      "image/png": "[encoded data removed]",
      "text/plain": [
       "<Figure size 432x288 with 1 Axes>"
      ]
     },
     "metadata": {
      "needs_background": "light"
     },
     "output_type": "display_data"
    }
   ],
   "source": [
    "import matplotlib.pyplot as plt\n",
    "import numpy as np\n",
    "%matplotlib inline\n",
    "\n",
    "ind = index = np.arange(len(model_labels))\n",
    "plt.bar(ind, accuracy)\n",
    "plt.xlabel(\"model\", fontsize=10)\n",
    "plt.ylabel(\"accuracy (%)\", fontsize=10)\n",
    "plt.xticks(ind, model_labels, rotation=20)\n",
    "plt.show()\n"
   ]
  },
  {
   "cell_type": "code",
   "execution_count": 30,
   "metadata": {},
   "outputs": [],
   "source": [
    "\n",
    "def predict(model):\n",
    "    predictions = model.predict(trainingData[\"X\"])\n",
    "\n",
    "    for i in range(0, len(predictions)):\n",
    "        authors = [\"marlowe\", \"shakespeare\"]\n",
    "        prediction = authors[predictions[i]]\n",
    "        actual_author = authors[trainingData[\"Y\"][i]]\n",
    "        print(\"Actual author:\", actual_author, \"- Predicted author:\", prediction)"
   ]
  },
  {
   "cell_type": "code",
   "execution_count": 20,
   "metadata": {},
   "outputs": [
    {
     "name": "stdout",
     "output_type": "stream",
     "text": [
      "Actual author: shakespeare - Predicted author: shakespeare\n",
      "Actual author: shakespeare - Predicted author: shakespeare\n",
      "Actual author: shakespeare - Predicted author: shakespeare\n",
      "Actual author: shakespeare - Predicted author: marlowe\n",
      "Actual author: marlowe - Predicted author: marlowe\n",
      "Actual author: marlowe - Predicted author: marlowe\n",
      "Actual author: marlowe - Predicted author: marlowe\n"
     ]
    }
   ],
   "source": [
    "predict(models[2])"
   ]
  },
  {
   "cell_type": "markdown",
   "metadata": {},
   "source": [
    "### in this case the multinomial naive bayes has the greatest accuracy \n",
    "#### with training and test data the correct way around the naive bayes had an accuracy of 60%"
   ]
  },
  {
   "cell_type": "code",
   "execution_count": 21,
   "metadata": {},
   "outputs": [],
   "source": [
    "def savemodels():\n",
    "\n",
    "    from joblib import dump\n",
    "    import datetime\n",
    "\n",
    "    for model in models:\n",
    "        dump(model, model.__class__.__name__ + \".model\")"
   ]
  },
  {
   "cell_type": "code",
   "execution_count": 25,
   "metadata": {},
   "outputs": [],
   "source": []
  },
  {
   "cell_type": "code",
   "execution_count": null,
   "metadata": {},
   "outputs": [],
   "source": []
  },
  {
   "cell_type": "code",
   "execution_count": null,
   "metadata": {},
   "outputs": [],
   "source": []
  }
 ],
 "metadata": {
  "kernelspec": {
   "display_name": "Python 3",
   "language": "python",
   "name": "python3"
  },
  "language_info": {
   "codemirror_mode": {
    "name": "ipython",
    "version": 3
   },
   "file_extension": ".py",
   "mimetype": "text/x-python",
   "name": "python",
   "nbconvert_exporter": "python",
   "pygments_lexer": "ipython3",
   "version": "3.5.2"
  }
 },
 "nbformat": 4,
 "nbformat_minor": 2
}
